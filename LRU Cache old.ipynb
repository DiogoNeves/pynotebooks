{
 "metadata": {
  "name": "",
  "signature": "sha256:52a6831b059fc0b530b0bba61f18579cc06d928271a10917cf60f5b724cef757"
 },
 "nbformat": 3,
 "nbformat_minor": 0,
 "worksheets": [
  {
   "cells": [
    {
     "cell_type": "heading",
     "level": 1,
     "metadata": {},
     "source": [
      "LRU Cache"
     ]
    },
    {
     "cell_type": "markdown",
     "metadata": {},
     "source": [
      "* Insert, Set, Get, Delete operations O(1)\n",
      "* Access by key\n",
      "* Keys are strings\n",
      "* Set and Get make the element be the most recent\n",
      "* Assume the input keys are always valid"
     ]
    },
    {
     "cell_type": "code",
     "collapsed": false,
     "input": [
      "class Node:\n",
      "    def __init__(self, prev, next, key, value):\n",
      "        self.prev = prev\n",
      "        self.next = next\n",
      "        self.key = key\n",
      "        self.value = value"
     ],
     "language": "python",
     "metadata": {},
     "outputs": [],
     "prompt_number": 137
    },
    {
     "cell_type": "code",
     "collapsed": false,
     "input": [
      "class Cache:\n",
      "    def __init__(self, capacity):\n",
      "        self.top = None\n",
      "        self.last = None\n",
      "        self.key_map = {}\n",
      "        self.count = 0\n",
      "        self.capacity = capacity\n",
      "    \n",
      "    def is_full(self):\n",
      "        return self.count == self.capacity\n",
      "    \n",
      "    def insert(self, key, value):\n",
      "        if self.is_full():\n",
      "            cache._pop()\n",
      "        node = Node(None, self.top, key, value)\n",
      "        if self.top is None:\n",
      "            self.top = node\n",
      "            self.last = node\n",
      "        else:\n",
      "            self.top.prev = node\n",
      "            self.top = node\n",
      "        self.key_map[key] = node\n",
      "        self.count += 1\n",
      "        \n",
      "    def get(self, key):\n",
      "        node = self.key_map[key]\n",
      "        self._delete_impl(node)\n",
      "        self.insert(key, node.value)\n",
      "        return node.value\n",
      "    \n",
      "    def set(self, key, value):\n",
      "        node = self.key_map[key]\n",
      "        self._delete_impl(node)\n",
      "        self.insert(key, value)\n",
      "        \n",
      "    def delete(self, key):\n",
      "        node = self.key_map[key]\n",
      "        self._delete_impl(node)\n",
      "        \n",
      "    def _delete_impl(self, node):\n",
      "        if node.prev is not None:\n",
      "            node.prev.next = node.next\n",
      "        else:\n",
      "            self.top = node.next\n",
      "                \n",
      "        if node.next is not None:\n",
      "            node.next.prev = node.prev\n",
      "        else:\n",
      "            self.last = node.prev\n",
      "            \n",
      "        del self.key_map[node.key]\n",
      "        self.count -= 1\n",
      "        \n",
      "    def _pop(self):\n",
      "        self._delete_impl(self.last)\n",
      "        \n",
      "    def __repr__(self):\n",
      "        node = self.top\n",
      "        values = []\n",
      "        while node is not None:\n",
      "            values.append(str(node.value))\n",
      "            node = node.next\n",
      "        return '[%s]' % ','.join(values)\n",
      "        "
     ],
     "language": "python",
     "metadata": {},
     "outputs": [],
     "prompt_number": 138
    },
    {
     "cell_type": "code",
     "collapsed": false,
     "input": [
      "cache = Cache(3)"
     ],
     "language": "python",
     "metadata": {},
     "outputs": [],
     "prompt_number": 154
    },
    {
     "cell_type": "code",
     "collapsed": false,
     "input": [
      "cache.insert('test', 1)"
     ],
     "language": "python",
     "metadata": {},
     "outputs": [],
     "prompt_number": 155
    },
    {
     "cell_type": "code",
     "collapsed": false,
     "input": [
      "print str(cache)"
     ],
     "language": "python",
     "metadata": {},
     "outputs": [
      {
       "output_type": "stream",
       "stream": "stdout",
       "text": [
        "[1]\n"
       ]
      }
     ],
     "prompt_number": 156
    },
    {
     "cell_type": "code",
     "collapsed": false,
     "input": [
      "cache.insert('spoing', 2)"
     ],
     "language": "python",
     "metadata": {},
     "outputs": [],
     "prompt_number": 157
    },
    {
     "cell_type": "code",
     "collapsed": false,
     "input": [
      "print str(cache)"
     ],
     "language": "python",
     "metadata": {},
     "outputs": [
      {
       "output_type": "stream",
       "stream": "stdout",
       "text": [
        "[2,1]\n"
       ]
      }
     ],
     "prompt_number": 158
    },
    {
     "cell_type": "code",
     "collapsed": false,
     "input": [
      "print cache.get('test')"
     ],
     "language": "python",
     "metadata": {},
     "outputs": [
      {
       "output_type": "stream",
       "stream": "stdout",
       "text": [
        "1\n"
       ]
      }
     ],
     "prompt_number": 159
    },
    {
     "cell_type": "code",
     "collapsed": false,
     "input": [
      "print str(cache)\n"
     ],
     "language": "python",
     "metadata": {},
     "outputs": [
      {
       "output_type": "stream",
       "stream": "stdout",
       "text": [
        "[1,2]\n"
       ]
      }
     ],
     "prompt_number": 160
    },
    {
     "cell_type": "code",
     "collapsed": false,
     "input": [
      "cache.insert('boom', 3)\n",
      "cache.set('test', 4)"
     ],
     "language": "python",
     "metadata": {},
     "outputs": [],
     "prompt_number": 161
    },
    {
     "cell_type": "code",
     "collapsed": false,
     "input": [
      "cache.insert('yeah', 5)"
     ],
     "language": "python",
     "metadata": {},
     "outputs": [],
     "prompt_number": 162
    },
    {
     "cell_type": "code",
     "collapsed": false,
     "input": [
      "print str(cache)"
     ],
     "language": "python",
     "metadata": {},
     "outputs": [
      {
       "output_type": "stream",
       "stream": "stdout",
       "text": [
        "[5,4,3]\n"
       ]
      }
     ],
     "prompt_number": 163
    },
    {
     "cell_type": "code",
     "collapsed": false,
     "input": [
      "cache.delete('test')"
     ],
     "language": "python",
     "metadata": {},
     "outputs": [],
     "prompt_number": 164
    },
    {
     "cell_type": "code",
     "collapsed": false,
     "input": [
      "print str(cache)"
     ],
     "language": "python",
     "metadata": {},
     "outputs": [
      {
       "output_type": "stream",
       "stream": "stdout",
       "text": [
        "[5,3]\n"
       ]
      }
     ],
     "prompt_number": 165
    },
    {
     "cell_type": "code",
     "collapsed": false,
     "input": [
      "cache.delete('boom')"
     ],
     "language": "python",
     "metadata": {},
     "outputs": [],
     "prompt_number": 166
    },
    {
     "cell_type": "code",
     "collapsed": false,
     "input": [
      "print str(cache)"
     ],
     "language": "python",
     "metadata": {},
     "outputs": [
      {
       "output_type": "stream",
       "stream": "stdout",
       "text": [
        "[5]\n"
       ]
      }
     ],
     "prompt_number": 167
    },
    {
     "cell_type": "code",
     "collapsed": false,
     "input": [],
     "language": "python",
     "metadata": {},
     "outputs": [],
     "prompt_number": 152
    },
    {
     "cell_type": "code",
     "collapsed": false,
     "input": [],
     "language": "python",
     "metadata": {},
     "outputs": []
    }
   ],
   "metadata": {}
  }
 ]
}