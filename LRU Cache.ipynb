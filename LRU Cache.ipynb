{
 "metadata": {
  "name": "",
  "signature": "sha256:ca6eb38d9167e9b6f8a2b0fcf0bd2df3c8d4d5ae6ec27b35f77b10df5f9771e8"
 },
 "nbformat": 3,
 "nbformat_minor": 0,
 "worksheets": [
  {
   "cells": [
    {
     "cell_type": "heading",
     "level": 1,
     "metadata": {},
     "source": [
      "Implementing a simple LRU Cache"
     ]
    },
    {
     "cell_type": "markdown",
     "metadata": {},
     "source": [
      "Problem:\n",
      "* LRU Cache with a maximum capacity (http://en.wikipedia.org/wiki/Cache_algorithms)\n",
      "* _Set_, _Get_, _Delete_ operations O(1) (amortized, depends on Python's dict implementation)\n",
      "* Access by key\n",
      "* _Set_ and _Get_ move the element back to the most recent\n",
      "* If the cache is full, adding a new values drops the oldest item\n",
      "* Assume no one is crazy enough to create a `LRUCache` with `capacity = 1`\n",
      "\n",
      "Today I decided to challenge myself and implement a LRU Cache in 25 minutes (Pomodoro FTW).  \n",
      "Quick brainstorm and decided to go with a **double linked list and a dict** (for _key => list_node_).\n",
      "\n",
      "The basic idea is:  \n",
      "* All operations get a reference to the node via the dict  \n",
      "* _Set_ and _Get_ delete the node and re-add it to the top  \n",
      "* If _Set_ is called with a new _key_ and the cache is full, delete the last item\n",
      "* _Delete_ simply deletes the node\n",
      "\n",
      "After implementing the whole thing I realise, wait, isn't `collections.OrderedDict` just that?\n",
      "\n",
      "Here's a simple LRU Cache."
     ]
    },
    {
     "cell_type": "code",
     "collapsed": false,
     "input": [
      "from collections import OrderedDict\n",
      "\n",
      "class LRUCache(object):\n",
      "    \"\"\"Implementation of a LRU Cache. Iterating goes from oldest to newest.\"\"\"\n",
      "    \n",
      "    def __init__(self, capacity):\n",
      "        self._cache_impl = OrderedDict()\n",
      "        # calling self.items to count isn't O(1)\n",
      "        self._count = 0\n",
      "        # A simple maximum number of items\n",
      "        self._capacity = capacity\n",
      "        \n",
      "    def __setitem__(self, key, value):\n",
      "        \"\"\"Set the value for the key and move it to the most recent.\n",
      "        If the cache is full, delete the oldest item.\n",
      "        \"\"\"\n",
      "        if key in self._cache_impl:\n",
      "            del self._cache_impl[key]\n",
      "        elif self.full():\n",
      "            # last=False because inserting a new key adds to the end\n",
      "            self._cache_impl.popitem(last=False)\n",
      "        else:\n",
      "            self._count += 1\n",
      "        self._cache_impl[key] = value\n",
      "        \n",
      "    def __getitem__(self, key):\n",
      "        \"\"\"Get the value for the key and move it to the most recent.\"\"\"\n",
      "        value = self._cache_impl[key]\n",
      "        del self._cache_impl[key]\n",
      "        self._cache_impl[key] = value\n",
      "        return value\n",
      "    \n",
      "    def __delitem__(self, key):\n",
      "        del self._cache_impl[key]\n",
      "        self._count -= 1\n",
      "    \n",
      "    def full(self):\n",
      "        return self._count == self._capacity\n",
      "    \n",
      "    def values(self):\n",
      "        return self._cache_impl.values()"
     ],
     "language": "python",
     "metadata": {},
     "outputs": [],
     "prompt_number": 83
    },
    {
     "cell_type": "markdown",
     "metadata": {},
     "source": [
      "And here's a simple test:"
     ]
    },
    {
     "cell_type": "code",
     "collapsed": false,
     "input": [
      "def test_cache():\n",
      "    cache = LRUCache(2)\n",
      "    cache['spoing'] = 1\n",
      "    cache['boing'] = 2\n",
      "    assert cache.values() == [1,2]\n",
      "    assert cache['spoing'] == 1\n",
      "    assert cache.values() == [2,1]\n",
      "    cache['boom'] = 3\n",
      "    assert cache.values() == [1,3]\n",
      "    \n",
      "    cache = LRUCache(3)\n",
      "    cache['spoing'] = 1\n",
      "    cache['boing'] = 2\n",
      "    assert cache.values() == [1,2]\n",
      "    assert cache['spoing'] == 1\n",
      "    assert cache.values() == [2,1]\n",
      "    cache['boom'] = 3\n",
      "    assert cache.values() == [2,1,3]\n",
      "    cache['spoing'] = 4\n",
      "    assert cache.values() == [2,3,4]"
     ],
     "language": "python",
     "metadata": {},
     "outputs": [],
     "prompt_number": 96
    },
    {
     "cell_type": "markdown",
     "metadata": {},
     "source": [
      "I really **love** python!"
     ]
    },
    {
     "cell_type": "code",
     "collapsed": false,
     "input": [],
     "language": "python",
     "metadata": {},
     "outputs": []
    }
   ],
   "metadata": {}
  }
 ]
}